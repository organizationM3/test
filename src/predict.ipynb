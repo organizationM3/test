{
 "cells": [
  {
   "cell_type": "code",
   "execution_count": 1,
   "metadata": {},
   "outputs": [],
   "source": [
    "import pandas as pd\n"
   ]
  },
  {
   "cell_type": "code",
   "execution_count": 3,
   "metadata": {},
   "outputs": [],
   "source": [
    "past_data=pd.read_csv('./usdjpy.csv')\n",
    "predict_data=pd.read_csv('./predict.csv')"
   ]
  },
  {
   "cell_type": "code",
   "execution_count": 4,
   "metadata": {},
   "outputs": [
    {
     "data": {
      "text/html": [
       "<div>\n",
       "<style scoped>\n",
       "    .dataframe tbody tr th:only-of-type {\n",
       "        vertical-align: middle;\n",
       "    }\n",
       "\n",
       "    .dataframe tbody tr th {\n",
       "        vertical-align: top;\n",
       "    }\n",
       "\n",
       "    .dataframe thead th {\n",
       "        text-align: right;\n",
       "    }\n",
       "</style>\n",
       "<table border=\"1\" class=\"dataframe\">\n",
       "  <thead>\n",
       "    <tr style=\"text-align: right;\">\n",
       "      <th></th>\n",
       "      <th>Time</th>\n",
       "      <th>Open</th>\n",
       "      <th>High</th>\n",
       "      <th>Low</th>\n",
       "      <th>Close</th>\n",
       "    </tr>\n",
       "  </thead>\n",
       "  <tbody>\n",
       "    <tr>\n",
       "      <th>0</th>\n",
       "      <td>2019-03-25 09:00:00</td>\n",
       "      <td>110.096</td>\n",
       "      <td>110.137</td>\n",
       "      <td>109.758</td>\n",
       "      <td>109.813</td>\n",
       "    </tr>\n",
       "    <tr>\n",
       "      <th>1</th>\n",
       "      <td>2019-03-25 10:00:00</td>\n",
       "      <td>109.810</td>\n",
       "      <td>109.860</td>\n",
       "      <td>109.708</td>\n",
       "      <td>109.836</td>\n",
       "    </tr>\n",
       "    <tr>\n",
       "      <th>2</th>\n",
       "      <td>2019-03-25 11:00:00</td>\n",
       "      <td>109.832</td>\n",
       "      <td>109.852</td>\n",
       "      <td>109.762</td>\n",
       "      <td>109.788</td>\n",
       "    </tr>\n",
       "    <tr>\n",
       "      <th>3</th>\n",
       "      <td>2019-03-25 12:00:00</td>\n",
       "      <td>109.785</td>\n",
       "      <td>109.856</td>\n",
       "      <td>109.774</td>\n",
       "      <td>109.854</td>\n",
       "    </tr>\n",
       "    <tr>\n",
       "      <th>4</th>\n",
       "      <td>2019-03-25 13:00:00</td>\n",
       "      <td>109.850</td>\n",
       "      <td>110.010</td>\n",
       "      <td>109.837</td>\n",
       "      <td>109.978</td>\n",
       "    </tr>\n",
       "    <tr>\n",
       "      <th>...</th>\n",
       "      <td>...</td>\n",
       "      <td>...</td>\n",
       "      <td>...</td>\n",
       "      <td>...</td>\n",
       "      <td>...</td>\n",
       "    </tr>\n",
       "    <tr>\n",
       "      <th>4994</th>\n",
       "      <td>2020-01-11 01:00:00</td>\n",
       "      <td>109.564</td>\n",
       "      <td>109.574</td>\n",
       "      <td>109.450</td>\n",
       "      <td>109.504</td>\n",
       "    </tr>\n",
       "    <tr>\n",
       "      <th>4995</th>\n",
       "      <td>2020-01-11 02:00:00</td>\n",
       "      <td>109.502</td>\n",
       "      <td>109.504</td>\n",
       "      <td>109.433</td>\n",
       "      <td>109.479</td>\n",
       "    </tr>\n",
       "    <tr>\n",
       "      <th>4996</th>\n",
       "      <td>2020-01-11 03:00:00</td>\n",
       "      <td>109.482</td>\n",
       "      <td>109.540</td>\n",
       "      <td>109.482</td>\n",
       "      <td>109.536</td>\n",
       "    </tr>\n",
       "    <tr>\n",
       "      <th>4997</th>\n",
       "      <td>2020-01-11 04:00:00</td>\n",
       "      <td>109.538</td>\n",
       "      <td>109.556</td>\n",
       "      <td>109.512</td>\n",
       "      <td>109.522</td>\n",
       "    </tr>\n",
       "    <tr>\n",
       "      <th>4998</th>\n",
       "      <td>2020-01-11 05:00:00</td>\n",
       "      <td>109.520</td>\n",
       "      <td>109.533</td>\n",
       "      <td>109.484</td>\n",
       "      <td>109.506</td>\n",
       "    </tr>\n",
       "  </tbody>\n",
       "</table>\n",
       "<p>4999 rows × 5 columns</p>\n",
       "</div>"
      ],
      "text/plain": [
       "                     Time     Open     High      Low    Close\n",
       "0     2019-03-25 09:00:00  110.096  110.137  109.758  109.813\n",
       "1     2019-03-25 10:00:00  109.810  109.860  109.708  109.836\n",
       "2     2019-03-25 11:00:00  109.832  109.852  109.762  109.788\n",
       "3     2019-03-25 12:00:00  109.785  109.856  109.774  109.854\n",
       "4     2019-03-25 13:00:00  109.850  110.010  109.837  109.978\n",
       "...                   ...      ...      ...      ...      ...\n",
       "4994  2020-01-11 01:00:00  109.564  109.574  109.450  109.504\n",
       "4995  2020-01-11 02:00:00  109.502  109.504  109.433  109.479\n",
       "4996  2020-01-11 03:00:00  109.482  109.540  109.482  109.536\n",
       "4997  2020-01-11 04:00:00  109.538  109.556  109.512  109.522\n",
       "4998  2020-01-11 05:00:00  109.520  109.533  109.484  109.506\n",
       "\n",
       "[4999 rows x 5 columns]"
      ]
     },
     "execution_count": 4,
     "metadata": {},
     "output_type": "execute_result"
    }
   ],
   "source": [
    "past_data.head(-1)"
   ]
  },
  {
   "cell_type": "code",
   "execution_count": 25,
   "metadata": {},
   "outputs": [],
   "source": [
    "previos_close=past_data.loc[4999,'Close']"
   ]
  },
  {
   "cell_type": "code",
   "execution_count": 26,
   "metadata": {},
   "outputs": [
    {
     "data": {
      "text/plain": [
       "109.471"
      ]
     },
     "execution_count": 26,
     "metadata": {},
     "output_type": "execute_result"
    }
   ],
   "source": [
    "previos_close"
   ]
  },
  {
   "cell_type": "code",
   "execution_count": 31,
   "metadata": {},
   "outputs": [],
   "source": [
    "predict_price_open=predict_data.loc[0,'Open']\n",
    "predict_price_high=predict_data.loc[0,'High']\n",
    "predict_price_low=predict_data.loc[0,'Low']\n",
    "predict_price_close=predict_data.loc[0,'Close']"
   ]
  },
  {
   "cell_type": "code",
   "execution_count": 32,
   "metadata": {},
   "outputs": [],
   "source": [
    "price_increase=predict_price_open-previos_close"
   ]
  },
  {
   "cell_type": "code",
   "execution_count": 33,
   "metadata": {},
   "outputs": [
    {
     "data": {
      "text/plain": [
       "0.08899999999999864"
      ]
     },
     "execution_count": 33,
     "metadata": {},
     "output_type": "execute_result"
    }
   ],
   "source": [
    "price_increase"
   ]
  },
  {
   "cell_type": "code",
   "execution_count": null,
   "metadata": {},
   "outputs": [],
   "source": []
  }
 ],
 "metadata": {
  "kernelspec": {
   "display_name": "Python 3",
   "language": "python",
   "name": "python3"
  },
  "language_info": {
   "codemirror_mode": {
    "name": "ipython",
    "version": 3
   },
   "file_extension": ".py",
   "mimetype": "text/x-python",
   "name": "python",
   "nbconvert_exporter": "python",
   "pygments_lexer": "ipython3",
   "version": "3.6.5"
  }
 },
 "nbformat": 4,
 "nbformat_minor": 2
}
